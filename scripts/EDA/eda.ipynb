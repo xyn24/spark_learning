{
 "cells": [
  {
   "cell_type": "code",
   "execution_count": 1,
   "metadata": {
    "ExecuteTime": {
     "end_time": "2024-06-20T06:26:32.401287Z",
     "start_time": "2024-06-20T06:26:31.972231Z"
    },
    "collapsed": true,
    "execution": {
     "iopub.execute_input": "2025-06-29T03:59:40.446880Z",
     "iopub.status.busy": "2025-06-29T03:59:40.446515Z",
     "iopub.status.idle": "2025-06-29T03:59:40.956489Z",
     "shell.execute_reply": "2025-06-29T03:59:40.955013Z"
    }
   },
   "outputs": [],
   "source": [
    "import pandas as pd"
   ]
  },
  {
   "cell_type": "code",
   "execution_count": 2,
   "metadata": {
    "ExecuteTime": {
     "end_time": "2024-06-20T06:27:26.163744Z",
     "start_time": "2024-06-20T06:26:33.752823Z"
    },
    "collapsed": false,
    "execution": {
     "iopub.execute_input": "2025-06-29T03:59:40.960767Z",
     "iopub.status.busy": "2025-06-29T03:59:40.960339Z",
     "iopub.status.idle": "2025-06-29T03:59:41.200636Z",
     "shell.execute_reply": "2025-06-29T03:59:41.198965Z"
    }
   },
   "outputs": [
    {
     "data": {
      "text/html": [
       "<div>\n",
       "<style scoped>\n",
       "    .dataframe tbody tr th:only-of-type {\n",
       "        vertical-align: middle;\n",
       "    }\n",
       "\n",
       "    .dataframe tbody tr th {\n",
       "        vertical-align: top;\n",
       "    }\n",
       "\n",
       "    .dataframe thead th {\n",
       "        text-align: right;\n",
       "    }\n",
       "</style>\n",
       "<table border=\"1\" class=\"dataframe\">\n",
       "  <thead>\n",
       "    <tr style=\"text-align: right;\">\n",
       "      <th></th>\n",
       "      <th>edition_id</th>\n",
       "      <th>wishlist_rank</th>\n",
       "      <th>followers_total</th>\n",
       "      <th>developer_revenue_p1_year</th>\n",
       "      <th>publisher_revenue_p1_year</th>\n",
       "      <th>pheat</th>\n",
       "      <th>other_feature</th>\n",
       "    </tr>\n",
       "  </thead>\n",
       "  <tbody>\n",
       "    <tr>\n",
       "      <th>0</th>\n",
       "      <td>game1</td>\n",
       "      <td>52</td>\n",
       "      <td>1860</td>\n",
       "      <td>1.916004e+06</td>\n",
       "      <td>7.818941e+06</td>\n",
       "      <td>20</td>\n",
       "      <td>0.156019</td>\n",
       "    </tr>\n",
       "    <tr>\n",
       "      <th>1</th>\n",
       "      <td>game1</td>\n",
       "      <td>83</td>\n",
       "      <td>5426</td>\n",
       "      <td>4.646564e+06</td>\n",
       "      <td>3.403715e+06</td>\n",
       "      <td>23</td>\n",
       "      <td>0.650888</td>\n",
       "    </tr>\n",
       "    <tr>\n",
       "      <th>2</th>\n",
       "      <td>game1</td>\n",
       "      <td>53</td>\n",
       "      <td>1769</td>\n",
       "      <td>7.247788e+06</td>\n",
       "      <td>9.391672e+06</td>\n",
       "      <td>1</td>\n",
       "      <td>0.181825</td>\n",
       "    </tr>\n",
       "    <tr>\n",
       "      <th>3</th>\n",
       "      <td>game2</td>\n",
       "      <td>21</td>\n",
       "      <td>2184</td>\n",
       "      <td>3.111998e+06</td>\n",
       "      <td>5.295089e+06</td>\n",
       "      <td>88</td>\n",
       "      <td>0.291229</td>\n",
       "    </tr>\n",
       "    <tr>\n",
       "      <th>4</th>\n",
       "      <td>game2</td>\n",
       "      <td>59</td>\n",
       "      <td>3558</td>\n",
       "      <td>1.480989e+06</td>\n",
       "      <td>2.992232e+06</td>\n",
       "      <td>79</td>\n",
       "      <td>0.232771</td>\n",
       "    </tr>\n",
       "    <tr>\n",
       "      <th>5</th>\n",
       "      <td>game2</td>\n",
       "      <td>62</td>\n",
       "      <td>3734</td>\n",
       "      <td>6.222021e+06</td>\n",
       "      <td>3.886374e+06</td>\n",
       "      <td>63</td>\n",
       "      <td>0.466763</td>\n",
       "    </tr>\n",
       "    <tr>\n",
       "      <th>6</th>\n",
       "      <td>game3</td>\n",
       "      <td>51</td>\n",
       "      <td>9838</td>\n",
       "      <td>1.788189e+06</td>\n",
       "      <td>7.440108e+05</td>\n",
       "      <td>3</td>\n",
       "      <td>0.942202</td>\n",
       "    </tr>\n",
       "    <tr>\n",
       "      <th>7</th>\n",
       "      <td>game3</td>\n",
       "      <td>14</td>\n",
       "      <td>9433</td>\n",
       "      <td>3.915623e+06</td>\n",
       "      <td>2.580659e+05</td>\n",
       "      <td>1</td>\n",
       "      <td>0.684233</td>\n",
       "    </tr>\n",
       "    <tr>\n",
       "      <th>8</th>\n",
       "      <td>game3</td>\n",
       "      <td>60</td>\n",
       "      <td>1775</td>\n",
       "      <td>4.404464e+05</td>\n",
       "      <td>9.102272e+06</td>\n",
       "      <td>35</td>\n",
       "      <td>0.182236</td>\n",
       "    </tr>\n",
       "    <tr>\n",
       "      <th>9</th>\n",
       "      <td>game4</td>\n",
       "      <td>4</td>\n",
       "      <td>4073</td>\n",
       "      <td>4.309043e+06</td>\n",
       "      <td>2.158622e+06</td>\n",
       "      <td>3</td>\n",
       "      <td>0.184854</td>\n",
       "    </tr>\n",
       "    <tr>\n",
       "      <th>10</th>\n",
       "      <td>game4</td>\n",
       "      <td>63</td>\n",
       "      <td>7873</td>\n",
       "      <td>4.552566e+06</td>\n",
       "      <td>4.011987e+06</td>\n",
       "      <td>99</td>\n",
       "      <td>0.597900</td>\n",
       "    </tr>\n",
       "    <tr>\n",
       "      <th>11</th>\n",
       "      <td>game4</td>\n",
       "      <td>48</td>\n",
       "      <td>8629</td>\n",
       "      <td>2.040230e+06</td>\n",
       "      <td>5.477502e+05</td>\n",
       "      <td>39</td>\n",
       "      <td>0.844534</td>\n",
       "    </tr>\n",
       "    <tr>\n",
       "      <th>12</th>\n",
       "      <td>game5</td>\n",
       "      <td>82</td>\n",
       "      <td>1878</td>\n",
       "      <td>8.304501e+06</td>\n",
       "      <td>3.631858e+06</td>\n",
       "      <td>59</td>\n",
       "      <td>0.542696</td>\n",
       "    </tr>\n",
       "    <tr>\n",
       "      <th>13</th>\n",
       "      <td>game5</td>\n",
       "      <td>41</td>\n",
       "      <td>6276</td>\n",
       "      <td>8.041750e+06</td>\n",
       "      <td>8.380514e+05</td>\n",
       "      <td>70</td>\n",
       "      <td>0.423401</td>\n",
       "    </tr>\n",
       "    <tr>\n",
       "      <th>14</th>\n",
       "      <td>game5</td>\n",
       "      <td>1</td>\n",
       "      <td>3027</td>\n",
       "      <td>3.005533e+06</td>\n",
       "      <td>2.393902e+05</td>\n",
       "      <td>80</td>\n",
       "      <td>0.711342</td>\n",
       "    </tr>\n",
       "  </tbody>\n",
       "</table>\n",
       "</div>"
      ],
      "text/plain": [
       "   edition_id  wishlist_rank  followers_total  developer_revenue_p1_year  \\\n",
       "0       game1             52             1860               1.916004e+06   \n",
       "1       game1             83             5426               4.646564e+06   \n",
       "2       game1             53             1769               7.247788e+06   \n",
       "3       game2             21             2184               3.111998e+06   \n",
       "4       game2             59             3558               1.480989e+06   \n",
       "5       game2             62             3734               6.222021e+06   \n",
       "6       game3             51             9838               1.788189e+06   \n",
       "7       game3             14             9433               3.915623e+06   \n",
       "8       game3             60             1775               4.404464e+05   \n",
       "9       game4              4             4073               4.309043e+06   \n",
       "10      game4             63             7873               4.552566e+06   \n",
       "11      game4             48             8629               2.040230e+06   \n",
       "12      game5             82             1878               8.304501e+06   \n",
       "13      game5             41             6276               8.041750e+06   \n",
       "14      game5              1             3027               3.005533e+06   \n",
       "\n",
       "    publisher_revenue_p1_year  pheat  other_feature  \n",
       "0                7.818941e+06     20       0.156019  \n",
       "1                3.403715e+06     23       0.650888  \n",
       "2                9.391672e+06      1       0.181825  \n",
       "3                5.295089e+06     88       0.291229  \n",
       "4                2.992232e+06     79       0.232771  \n",
       "5                3.886374e+06     63       0.466763  \n",
       "6                7.440108e+05      3       0.942202  \n",
       "7                2.580659e+05      1       0.684233  \n",
       "8                9.102272e+06     35       0.182236  \n",
       "9                2.158622e+06      3       0.184854  \n",
       "10               4.011987e+06     99       0.597900  \n",
       "11               5.477502e+05     39       0.844534  \n",
       "12               3.631858e+06     59       0.542696  \n",
       "13               8.380514e+05     70       0.423401  \n",
       "14               2.393902e+05     80       0.711342  "
      ]
     },
     "execution_count": 2,
     "metadata": {},
     "output_type": "execute_result"
    }
   ],
   "source": [
    "df = pd.read_excel(\"../../data/train.xlsx\")\n",
    "df"
   ]
  },
  {
   "cell_type": "code",
   "execution_count": 3,
   "metadata": {
    "ExecuteTime": {
     "end_time": "2024-06-20T06:32:09.259915Z",
     "start_time": "2024-06-20T06:32:09.254563Z"
    },
    "collapsed": false,
    "execution": {
     "iopub.execute_input": "2025-06-29T03:59:41.250321Z",
     "iopub.status.busy": "2025-06-29T03:59:41.249956Z",
     "iopub.status.idle": "2025-06-29T03:59:41.258667Z",
     "shell.execute_reply": "2025-06-29T03:59:41.257134Z"
    }
   },
   "outputs": [
    {
     "data": {
      "text/plain": [
       "15"
      ]
     },
     "execution_count": 3,
     "metadata": {},
     "output_type": "execute_result"
    }
   ],
   "source": [
    "\n",
    "# How many records in train dataset\n",
    "len(df)"
   ]
  },
  {
   "cell_type": "code",
   "execution_count": 4,
   "metadata": {
    "collapsed": false,
    "execution": {
     "iopub.execute_input": "2025-06-29T03:59:41.262320Z",
     "iopub.status.busy": "2025-06-29T03:59:41.261938Z",
     "iopub.status.idle": "2025-06-29T03:59:41.275222Z",
     "shell.execute_reply": "2025-06-29T03:59:41.273526Z"
    }
   },
   "outputs": [
    {
     "data": {
      "text/plain": [
       "5"
      ]
     },
     "execution_count": 4,
     "metadata": {},
     "output_type": "execute_result"
    }
   ],
   "source": [
    "# How many games\n",
    "len(df[\"edition_id\"].unique())"
   ]
  },
  {
   "cell_type": "code",
   "execution_count": 5,
   "metadata": {
    "collapsed": false,
    "execution": {
     "iopub.execute_input": "2025-06-29T03:59:41.279445Z",
     "iopub.status.busy": "2025-06-29T03:59:41.279006Z",
     "iopub.status.idle": "2025-06-29T03:59:42.763922Z",
     "shell.execute_reply": "2025-06-29T03:59:42.762317Z"
    }
   },
   "outputs": [
    {
     "data": {
      "text/plain": [
       "<Axes: >"
      ]
     },
     "execution_count": 5,
     "metadata": {},
     "output_type": "execute_result"
    },
    {
     "data": {
      "image/png": "[encoded data removed]",
      "text/plain": [
       "<Figure size 640x480 with 1 Axes>"
      ]
     },
     "metadata": {},
     "output_type": "display_data"
    }
   ],
   "source": [
    "# How many records for each edition_id\n",
    "df.groupby(\"edition_id\").size().hist()"
   ]
  },
  {
   "cell_type": "code",
   "execution_count": 6,
   "metadata": {
    "collapsed": false,
    "execution": {
     "iopub.execute_input": "2025-06-29T03:59:42.769066Z",
     "iopub.status.busy": "2025-06-29T03:59:42.768187Z",
     "iopub.status.idle": "2025-06-29T03:59:42.778936Z",
     "shell.execute_reply": "2025-06-29T03:59:42.777215Z"
    }
   },
   "outputs": [
    {
     "data": {
      "text/plain": [
       "7"
      ]
     },
     "execution_count": 6,
     "metadata": {},
     "output_type": "execute_result"
    }
   ],
   "source": [
    "# How many features\n",
    "len(df.columns)"
   ]
  },
  {
   "cell_type": "code",
   "execution_count": 7,
   "metadata": {
    "collapsed": false,
    "execution": {
     "iopub.execute_input": "2025-06-29T03:59:42.784722Z",
     "iopub.status.busy": "2025-06-29T03:59:42.784233Z",
     "iopub.status.idle": "2025-06-29T03:59:42.794163Z",
     "shell.execute_reply": "2025-06-29T03:59:42.792877Z"
    }
   },
   "outputs": [
    {
     "data": {
      "text/plain": [
       "edition_id                    object\n",
       "wishlist_rank                  int64\n",
       "followers_total                int64\n",
       "developer_revenue_p1_year    float64\n",
       "publisher_revenue_p1_year    float64\n",
       "pheat                          int64\n",
       "other_feature                float64\n",
       "dtype: object"
      ]
     },
     "execution_count": 7,
     "metadata": {},
     "output_type": "execute_result"
    }
   ],
   "source": [
    "# What are the features\n",
    "df.dtypes"
   ]
  },
  {
   "cell_type": "code",
   "execution_count": 8,
   "metadata": {
    "collapsed": false,
    "execution": {
     "iopub.execute_input": "2025-06-29T03:59:42.798712Z",
     "iopub.status.busy": "2025-06-29T03:59:42.798137Z",
     "iopub.status.idle": "2025-06-29T03:59:42.810163Z",
     "shell.execute_reply": "2025-06-29T03:59:42.808711Z"
    }
   },
   "outputs": [
    {
     "data": {
      "text/plain": [
       "(np.float64(0.07377722106645442),\n",
       " np.float64(-0.18015568894300132),\n",
       " np.float64(0.08278086669562804),\n",
       " np.float64(-0.11354588155971124))"
      ]
     },
     "execution_count": 8,
     "metadata": {},
     "output_type": "execute_result"
    }
   ],
   "source": [
    "# What feature could be very important (Y is pheat)\n",
    "df['wishlist_rank'].corr(df['pheat']), df['followers_total'].corr(df['pheat']), df['developer_revenue_p1_year'].corr(df['pheat']), df['publisher_revenue_p1_year'].corr(df['pheat'])"
   ]
  },
  {
   "cell_type": "code",
   "execution_count": 9,
   "metadata": {
    "collapsed": false,
    "execution": {
     "iopub.execute_input": "2025-06-29T03:59:42.814549Z",
     "iopub.status.busy": "2025-06-29T03:59:42.813499Z",
     "iopub.status.idle": "2025-06-29T03:59:42.848229Z",
     "shell.execute_reply": "2025-06-29T03:59:42.846113Z"
    }
   },
   "outputs": [
    {
     "data": {
      "text/html": [
       "<div>\n",
       "<style scoped>\n",
       "    .dataframe tbody tr th:only-of-type {\n",
       "        vertical-align: middle;\n",
       "    }\n",
       "\n",
       "    .dataframe tbody tr th {\n",
       "        vertical-align: top;\n",
       "    }\n",
       "\n",
       "    .dataframe thead th {\n",
       "        text-align: right;\n",
       "    }\n",
       "</style>\n",
       "<table border=\"1\" class=\"dataframe\">\n",
       "  <thead>\n",
       "    <tr style=\"text-align: right;\">\n",
       "      <th></th>\n",
       "      <th>wishlist_rank</th>\n",
       "      <th>followers_total</th>\n",
       "      <th>developer_revenue_p1_year</th>\n",
       "      <th>publisher_revenue_p1_year</th>\n",
       "      <th>pheat</th>\n",
       "      <th>other_feature</th>\n",
       "    </tr>\n",
       "  </thead>\n",
       "  <tbody>\n",
       "    <tr>\n",
       "      <th>count</th>\n",
       "      <td>15.000000</td>\n",
       "      <td>15.000000</td>\n",
       "      <td>1.500000e+01</td>\n",
       "      <td>1.500000e+01</td>\n",
       "      <td>15.000000</td>\n",
       "      <td>15.000000</td>\n",
       "    </tr>\n",
       "    <tr>\n",
       "      <th>mean</th>\n",
       "      <td>46.266667</td>\n",
       "      <td>4755.533333</td>\n",
       "      <td>4.068217e+06</td>\n",
       "      <td>3.621335e+06</td>\n",
       "      <td>44.200000</td>\n",
       "      <td>0.472860</td>\n",
       "    </tr>\n",
       "    <tr>\n",
       "      <th>std</th>\n",
       "      <td>25.566347</td>\n",
       "      <td>2954.478438</td>\n",
       "      <td>2.463670e+06</td>\n",
       "      <td>3.102834e+06</td>\n",
       "      <td>34.771088</td>\n",
       "      <td>0.261561</td>\n",
       "    </tr>\n",
       "    <tr>\n",
       "      <th>min</th>\n",
       "      <td>1.000000</td>\n",
       "      <td>1769.000000</td>\n",
       "      <td>4.404464e+05</td>\n",
       "      <td>2.393902e+05</td>\n",
       "      <td>1.000000</td>\n",
       "      <td>0.156019</td>\n",
       "    </tr>\n",
       "    <tr>\n",
       "      <th>25%</th>\n",
       "      <td>31.000000</td>\n",
       "      <td>2031.000000</td>\n",
       "      <td>1.978117e+06</td>\n",
       "      <td>7.910311e+05</td>\n",
       "      <td>11.500000</td>\n",
       "      <td>0.208813</td>\n",
       "    </tr>\n",
       "    <tr>\n",
       "      <th>50%</th>\n",
       "      <td>52.000000</td>\n",
       "      <td>3734.000000</td>\n",
       "      <td>3.915623e+06</td>\n",
       "      <td>3.403715e+06</td>\n",
       "      <td>39.000000</td>\n",
       "      <td>0.466763</td>\n",
       "    </tr>\n",
       "    <tr>\n",
       "      <th>75%</th>\n",
       "      <td>61.000000</td>\n",
       "      <td>7074.500000</td>\n",
       "      <td>5.434293e+06</td>\n",
       "      <td>4.653538e+06</td>\n",
       "      <td>74.500000</td>\n",
       "      <td>0.667561</td>\n",
       "    </tr>\n",
       "    <tr>\n",
       "      <th>max</th>\n",
       "      <td>83.000000</td>\n",
       "      <td>9838.000000</td>\n",
       "      <td>8.304501e+06</td>\n",
       "      <td>9.391672e+06</td>\n",
       "      <td>99.000000</td>\n",
       "      <td>0.942202</td>\n",
       "    </tr>\n",
       "  </tbody>\n",
       "</table>\n",
       "</div>"
      ],
      "text/plain": [
       "       wishlist_rank  followers_total  developer_revenue_p1_year  \\\n",
       "count      15.000000        15.000000               1.500000e+01   \n",
       "mean       46.266667      4755.533333               4.068217e+06   \n",
       "std        25.566347      2954.478438               2.463670e+06   \n",
       "min         1.000000      1769.000000               4.404464e+05   \n",
       "25%        31.000000      2031.000000               1.978117e+06   \n",
       "50%        52.000000      3734.000000               3.915623e+06   \n",
       "75%        61.000000      7074.500000               5.434293e+06   \n",
       "max        83.000000      9838.000000               8.304501e+06   \n",
       "\n",
       "       publisher_revenue_p1_year      pheat  other_feature  \n",
       "count               1.500000e+01  15.000000      15.000000  \n",
       "mean                3.621335e+06  44.200000       0.472860  \n",
       "std                 3.102834e+06  34.771088       0.261561  \n",
       "min                 2.393902e+05   1.000000       0.156019  \n",
       "25%                 7.910311e+05  11.500000       0.208813  \n",
       "50%                 3.403715e+06  39.000000       0.466763  \n",
       "75%                 4.653538e+06  74.500000       0.667561  \n",
       "max                 9.391672e+06  99.000000       0.942202  "
      ]
     },
     "execution_count": 9,
     "metadata": {},
     "output_type": "execute_result"
    }
   ],
   "source": [
    "# Quickly understand the distribution (only numerical features)\n",
    "df.describe()"
   ]
  },
  {
   "cell_type": "code",
   "execution_count": null,
   "metadata": {},
   "outputs": [],
   "source": []
  }
 ],
 "metadata": {
  "kernelspec": {
   "display_name": "Python 3",
   "language": "python",
   "name": "python3"
  },
  "language_info": {
   "codemirror_mode": {
    "name": "ipython",
    "version": 3
   },
   "file_extension": ".py",
   "mimetype": "text/x-python",
   "name": "python",
   "nbconvert_exporter": "python",
   "pygments_lexer": "ipython3",
   "version": "3.9.23"
  }
 },
 "nbformat": 4,
 "nbformat_minor": 0
}
